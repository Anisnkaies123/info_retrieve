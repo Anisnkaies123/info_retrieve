{
 "cells": [
  {
   "cell_type": "markdown",
   "metadata": {},
   "source": [
    "# Testing different embedding schemes for information retrieval\n",
    "## Step 1: Load sample text"
   ]
  },
  {
   "cell_type": "code",
   "execution_count": 1,
   "metadata": {},
   "outputs": [],
   "source": [
    "import numpy as np"
   ]
  },
  {
   "cell_type": "code",
   "execution_count": 2,
   "metadata": {},
   "outputs": [],
   "source": [
    "def read_txt(path):\n",
    "    with open(path, 'r', encoding=\"utf-8\") as f:\n",
    "        text = f.readlines()\n",
    "#         text = [x.decode(\"utf-8\") for x in f.readlines()]\n",
    "    return text\n",
    "\n",
    "text = read_txt('./data/fund_guide_extend.txt')\n",
    "# text = [x.decode(\"utf-8\") for x in text]"
   ]
  },
  {
   "cell_type": "code",
   "execution_count": 14,
   "metadata": {},
   "outputs": [],
   "source": [
    "condition_terms = []\n",
    "stringg=''\n",
    "for tex in text:\n",
    "    if (tex=='\\n'):\n",
    "        if (stringg != ''):\n",
    "            condition_terms.append(stringg)\n",
    "            stringg=''\n",
    "        else: pass\n",
    "    else: stringg+=tex\n",
    "# condition_terms=[x.replace('\\n', '. ') for x in condition_terms]"
   ]
  },
  {
   "cell_type": "code",
   "execution_count": 1,
   "metadata": {
    "scrolled": false
   },
   "outputs": [],
   "source": [
    "print(len(condition_terms))\n",
    "condition_terms[2]"
   ]
  },
  {
   "cell_type": "markdown",
   "metadata": {},
   "source": [
    "# Step 2: Load sample questions"
   ]
  },
  {
   "cell_type": "code",
   "execution_count": 16,
   "metadata": {},
   "outputs": [
    {
     "name": "stdout",
     "output_type": "stream",
     "text": [
      "31\n"
     ]
    }
   ],
   "source": [
    "import pandas as pd\n",
    "df_queries = pd.read_csv('./data/Consolidated emails 2.csv', encoding='iso-8859-1')\n",
    "print(len(df_queries))"
   ]
  },
  {
   "cell_type": "code",
   "execution_count": 17,
   "metadata": {},
   "outputs": [],
   "source": [
    "# Answer collection\n",
    "initial_list=df_queries['Email Queries'].values\n",
    "modified_list=[val for val in initial_list for _ in (0, 1, 2)]\n",
    "df_comparisons = pd.DataFrame({'queries' : modified_list})"
   ]
  },
  {
   "cell_type": "markdown",
   "metadata": {},
   "source": [
    "# Step 3: define similarity function\n",
    "The cosine similarity function returns the cosine similarity given a query string, an encoder, and an array of knowledgebase embeddings"
   ]
  },
  {
   "cell_type": "code",
   "execution_count": 18,
   "metadata": {},
   "outputs": [],
   "source": [
    "from sklearn.metrics.pairwise import cosine_similarity"
   ]
  },
  {
   "cell_type": "code",
   "execution_count": 19,
   "metadata": {},
   "outputs": [],
   "source": [
    "def cosine_sim_results(query_str, encoder, kb_embeddings, **kwargs):\n",
    "    if kwargs:\n",
    "        qn_embedding = encoder(query_str, kwargs.get('tokenize', None))\n",
    "    else:\n",
    "        qn_embedding = encoder(query_str)\n",
    "    results = cosine_similarity(kb_embeddings, qn_embedding)\n",
    "    return results"
   ]
  },
  {
   "cell_type": "markdown",
   "metadata": {},
   "source": [
    "# Utility functions"
   ]
  },
  {
   "cell_type": "code",
   "execution_count": 20,
   "metadata": {},
   "outputs": [],
   "source": [
    "def dummy_embed_fn(vector):\n",
    "    return vector"
   ]
  },
  {
   "cell_type": "markdown",
   "metadata": {},
   "source": [
    "# Exp 1: Test InferSent model"
   ]
  },
  {
   "cell_type": "code",
   "execution_count": 21,
   "metadata": {},
   "outputs": [
    {
     "data": {
      "text/plain": [
       "<All keys matched successfully>"
      ]
     },
     "execution_count": 21,
     "metadata": {},
     "output_type": "execute_result"
    }
   ],
   "source": [
    "from InferSent.models import InferSent\n",
    "import torch\n",
    "V = 1\n",
    "MODEL_PATH = 'encoder/infersent%s.pkl' % V\n",
    "params_model = {'bsize': 64, 'word_emb_dim': 300, 'enc_lstm_dim': 2048,\n",
    "                'pool_type': 'max', 'dpout_model': 0.0, 'version': V}\n",
    "infersent = InferSent(params_model)\n",
    "infersent.load_state_dict(torch.load(MODEL_PATH))"
   ]
  },
  {
   "cell_type": "code",
   "execution_count": 22,
   "metadata": {},
   "outputs": [],
   "source": [
    "W2V_PATH = 'fastText/crawl-300d-2M.vec'\n",
    "infersent.set_w2v_path(W2V_PATH)"
   ]
  },
  {
   "cell_type": "code",
   "execution_count": 23,
   "metadata": {},
   "outputs": [
    {
     "name": "stdout",
     "output_type": "stream",
     "text": [
      "Found 2646(/2721) words with w2v vectors\n",
      "Vocab size : 2646\n"
     ]
    }
   ],
   "source": [
    "infersent.build_vocab(condition_terms, tokenize=True)"
   ]
  },
  {
   "cell_type": "code",
   "execution_count": 24,
   "metadata": {},
   "outputs": [
    {
     "name": "stdout",
     "output_type": "stream",
     "text": [
      "Found 0(/75) words with w2v vectors\n",
      "New vocab size : 2646 (added 0 words)\n"
     ]
    }
   ],
   "source": [
    "infersent.update_vocab(condition_terms, tokenize=True)"
   ]
  },
  {
   "cell_type": "code",
   "execution_count": 25,
   "metadata": {},
   "outputs": [],
   "source": [
    "response_results = infersent.encode(condition_terms, tokenize=True)\n",
    "questions = list(df_queries['Email Queries'])\n",
    "question_results = infersent.encode(questions, tokenize=True)"
   ]
  },
  {
   "cell_type": "code",
   "execution_count": 26,
   "metadata": {},
   "outputs": [
    {
     "name": "stdout",
     "output_type": "stream",
     "text": [
      "(148, 4096) (31, 4096)\n"
     ]
    }
   ],
   "source": [
    "print(response_results.shape, question_results.shape)"
   ]
  },
  {
   "cell_type": "code",
   "execution_count": 27,
   "metadata": {},
   "outputs": [],
   "source": [
    "# sample question\n",
    "# question=['how frequent can i get disbursements?']\n",
    "# condition_terms[cosine_sim_results(question, infersent.encode, embeddings, tokenize=True).argmax()]"
   ]
  },
  {
   "cell_type": "code",
   "execution_count": 28,
   "metadata": {},
   "outputs": [],
   "source": [
    "# question=['who is RESPONSIBLE FOR DATA CHARGES?']\n",
    "# sortargs=cosine_sim_results(question, infersent.encode, embeddings, tokenize=True).argsort(axis=0)\n",
    "# print(sortargs.shape)\n",
    "# for ii,arg in enumerate(sortargs[::-1,0]):\n",
    "#     print(ii, condition_terms[arg])\n",
    "#     if ii==4:\n",
    "#         break"
   ]
  },
  {
   "cell_type": "code",
   "execution_count": 29,
   "metadata": {},
   "outputs": [],
   "source": [
    "# list(cosine_sim_results(question, infersent.encode, embeddings, tokenize=True).argsort(axis=0).shape[-2:])"
   ]
  },
  {
   "cell_type": "markdown",
   "metadata": {},
   "source": [
    "## Test with example queries"
   ]
  },
  {
   "cell_type": "code",
   "execution_count": 2,
   "metadata": {},
   "outputs": [],
   "source": [
    "responses=[]\n",
    "for index, ii in enumerate(df_queries.iterrows()):\n",
    "    print('QN: ', ii[1]['Email Queries'])\n",
    "    sortargs=np.flip(cosine_sim_results(question_results[index].reshape(1, -1), dummy_embed_fn, response_results).argsort(axis=0))\n",
    "    for ans in range(3):\n",
    "        responses.append(condition_terms[sortargs[ans,0]])\n",
    "        print('ANS: ', condition_terms[sortargs[ans,0]])\n",
    "df_comparisons['infersent']=responses"
   ]
  },
  {
   "cell_type": "code",
   "execution_count": 31,
   "metadata": {
    "scrolled": true
   },
   "outputs": [],
   "source": [
    "# responses=[]\n",
    "# for ii in df_queries.iterrows():\n",
    "#     print('QN: ', ii[1]['Email Queries'])\n",
    "#     sortargs=np.flip(cosine_sim_results([ii[1]['Email Queries']], infersent.encode, embeddings, tokenize=True).argsort(axis=0))\n",
    "#     for ans in range(3):\n",
    "#         print(sortargs[ans, 0])\n",
    "#         responses.append(condition_terms[sortargs[ans,0]])\n",
    "#         print('ANS: ', condition_terms[sortargs[ans,0]])\n",
    "# #     answer = condition_terms[cosine_sim_results([ii[1]['Email Queries']], infersent.encode, embeddings, tokenize=True).argmax()]\n",
    "# #     print('ANS: ', answer)\n",
    "# #     responses.append(answer)\n",
    "# #     print('\\n')\n",
    "# df_comparisons['infersent']=responses"
   ]
  },
  {
   "cell_type": "markdown",
   "metadata": {},
   "source": [
    "# Exp 2: Google universal sentence encoder"
   ]
  },
  {
   "cell_type": "code",
   "execution_count": 32,
   "metadata": {},
   "outputs": [
    {
     "name": "stderr",
     "output_type": "stream",
     "text": [
      "/anaconda/envs/py35/lib/python3.5/importlib/_bootstrap.py:222: RuntimeWarning: numpy.dtype size changed, may indicate binary incompatibility. Expected 96, got 88\n",
      "  return f(*args, **kwds)\n",
      "/anaconda/envs/py35/lib/python3.5/site-packages/h5py/__init__.py:36: FutureWarning: Conversion of the second argument of issubdtype from `float` to `np.floating` is deprecated. In future, it will be treated as `np.float64 == np.dtype(float).type`.\n",
      "  from ._conv import register_converters as _register_converters\n"
     ]
    }
   ],
   "source": [
    "# !pip install tensorflow-gpu\n",
    "# !pip install tensorflow-hub\n",
    "import tensorflow as tf\n",
    "import tensorflow_hub as hub"
   ]
  },
  {
   "cell_type": "code",
   "execution_count": 33,
   "metadata": {},
   "outputs": [],
   "source": [
    "#download the model to local so it can be used again and again\n",
    "# !mkdir google_use\n",
    "# Download the module, and uncompress it to the destination folder. \n",
    "# !curl -L \"https://tfhub.dev/google/universal-sentence-encoder-large/3?tf-hub-format=compressed\" | tar -zxvC ./google_use"
   ]
  },
  {
   "cell_type": "code",
   "execution_count": 34,
   "metadata": {},
   "outputs": [
    {
     "name": "stdout",
     "output_type": "stream",
     "text": [
      "WARNING:tensorflow:From /anaconda/envs/py35/lib/python3.5/site-packages/tensorflow/python/ops/control_flow_ops.py:3632: colocate_with (from tensorflow.python.framework.ops) is deprecated and will be removed in a future version.\n",
      "Instructions for updating:\n",
      "Colocations handled automatically by placer.\n"
     ]
    },
    {
     "name": "stderr",
     "output_type": "stream",
     "text": [
      "WARNING: Logging before flag parsing goes to stderr.\n",
      "W0911 05:06:37.878517 139722147989248 deprecation.py:323] From /anaconda/envs/py35/lib/python3.5/site-packages/tensorflow/python/ops/control_flow_ops.py:3632: colocate_with (from tensorflow.python.framework.ops) is deprecated and will be removed in a future version.\n",
      "Instructions for updating:\n",
      "Colocations handled automatically by placer.\n"
     ]
    }
   ],
   "source": [
    "embed = hub.Module(\"./google_use\")"
   ]
  },
  {
   "cell_type": "code",
   "execution_count": 35,
   "metadata": {},
   "outputs": [],
   "source": [
    "def use_embed(terms):\n",
    "    with tf.Session() as session:\n",
    "        session.run([tf.global_variables_initializer(), tf.tables_initializer()])\n",
    "        message_embeddings = session.run(embed(terms))\n",
    "    return message_embeddings\n",
    "\n",
    "# to only load session once.\n",
    "# def embed_useT(module):\n",
    "#     with tf.Graph().as_default():\n",
    "#         sentences = tf.placeholder(tf.string)\n",
    "#         embed = hub.Module(module)\n",
    "#         embeddings = embed(sentences)\n",
    "#         session = tf.train.MonitoredSession()\n",
    "#     return lambda x: session.run(embeddings, {sentences: x})\n"
   ]
  },
  {
   "cell_type": "code",
   "execution_count": 36,
   "metadata": {},
   "outputs": [
    {
     "name": "stdout",
     "output_type": "stream",
     "text": [
      "INFO:tensorflow:Saver not created because there are no variables in the graph to restore\n"
     ]
    },
    {
     "name": "stderr",
     "output_type": "stream",
     "text": [
      "I0911 05:06:50.658029 139722147989248 saver.py:1483] Saver not created because there are no variables in the graph to restore\n"
     ]
    },
    {
     "name": "stdout",
     "output_type": "stream",
     "text": [
      "INFO:tensorflow:Saver not created because there are no variables in the graph to restore\n"
     ]
    },
    {
     "name": "stderr",
     "output_type": "stream",
     "text": [
      "I0911 05:07:01.882642 139722147989248 saver.py:1483] Saver not created because there are no variables in the graph to restore\n"
     ]
    },
    {
     "name": "stdout",
     "output_type": "stream",
     "text": [
      "(148, 512) (31, 512)\n"
     ]
    }
   ],
   "source": [
    "response_results = use_embed(condition_terms)\n",
    "all_questions = df_queries['Email Queries']\n",
    "questions=list(all_questions)\n",
    "question_results = use_embed(questions)\n",
    "print(response_results.shape, question_results.shape)"
   ]
  },
  {
   "cell_type": "code",
   "execution_count": 37,
   "metadata": {},
   "outputs": [],
   "source": [
    "# responses=[]\n",
    "# for ii in df_queries.iterrows():\n",
    "#     print('QN: ', ii[1]['Email Queries'])\n",
    "#     answer = condition_terms[cosine_sim_results([ii[1]['Email Queries']], use_embed, message_embeddings).argmax()]\n",
    "#     print('ANS: ', answer)\n",
    "#     responses.append(answer)\n",
    "#     print('\\n')\n",
    "# df_comparisons['use']=responses"
   ]
  },
  {
   "cell_type": "code",
   "execution_count": 3,
   "metadata": {},
   "outputs": [],
   "source": [
    "\n",
    "responses=[]\n",
    "for index, ii in enumerate(df_queries.iterrows()):\n",
    "    print('QN: ', ii[1]['Email Queries'])\n",
    "    sortargs=np.flip(cosine_sim_results(question_results[index].reshape(1, -1), dummy_embed_fn, response_results).argsort(axis=0))\n",
    "    for ans in range(3):\n",
    "        responses.append(condition_terms[sortargs[ans,0]])\n",
    "        print('ANS: ', condition_terms[sortargs[ans,0]])\n",
    "df_comparisons['use']=responses"
   ]
  },
  {
   "cell_type": "code",
   "execution_count": 39,
   "metadata": {},
   "outputs": [],
   "source": [
    "# responses=[]\n",
    "# for ii in df_queries.iterrows():\n",
    "#     print('QN: ', ii[1]['Email Queries'])\n",
    "#     sortargs=np.flip(cosine_sim_results([ii[1]['Email Queries']], use_embed, message_embeddings).argsort(axis=0))\n",
    "#     for ans in range(3):\n",
    "#         responses.append(condition_terms[sortargs[ans,0]])\n",
    "#         print('ANS: ', condition_terms[sortargs[ans,0]])\n",
    "# df_comparisons['use']=responses"
   ]
  },
  {
   "cell_type": "markdown",
   "metadata": {},
   "source": [
    "# Exp 3: Test the new QnA USE"
   ]
  },
  {
   "cell_type": "code",
   "execution_count": 40,
   "metadata": {},
   "outputs": [],
   "source": [
    "# !pip install sentencepiece\n",
    "# !pip install tf-sentencepiece"
   ]
  },
  {
   "cell_type": "code",
   "execution_count": 41,
   "metadata": {},
   "outputs": [],
   "source": [
    "import tensorflow as tf\n",
    "import tensorflow_hub as hub\n",
    "import numpy as np\n",
    "import tf_sentencepiece"
   ]
  },
  {
   "cell_type": "code",
   "execution_count": 42,
   "metadata": {},
   "outputs": [],
   "source": [
    "# define inputs\n",
    "responses = condition_terms\n",
    "response_contexts = responses # no need to provide context\n",
    "all_questions = df_queries['Email Queries']\n",
    "questions=list(all_questions)"
   ]
  },
  {
   "cell_type": "code",
   "execution_count": 43,
   "metadata": {},
   "outputs": [
    {
     "name": "stdout",
     "output_type": "stream",
     "text": [
      "INFO:tensorflow:Saver not created because there are no variables in the graph to restore\n"
     ]
    },
    {
     "name": "stderr",
     "output_type": "stream",
     "text": [
      "I0911 05:08:36.115073 139722147989248 saver.py:1483] Saver not created because there are no variables in the graph to restore\n"
     ]
    },
    {
     "name": "stdout",
     "output_type": "stream",
     "text": [
      "INFO:tensorflow:Saver not created because there are no variables in the graph to restore\n"
     ]
    },
    {
     "name": "stderr",
     "output_type": "stream",
     "text": [
      "I0911 05:09:54.914249 139722147989248 saver.py:1483] Saver not created because there are no variables in the graph to restore\n"
     ]
    }
   ],
   "source": [
    "# Set up graph.\n",
    "g = tf.Graph()\n",
    "with g.as_default():\n",
    "  embed = hub.Module(\"https://tfhub.dev/google/universal-sentence-encoder-multilingual-qa/1\")\n",
    "  question_embeddings = embed(\n",
    "    dict(input=questions),\n",
    "    signature=\"question_encoder\", as_dict=True)\n",
    "\n",
    "  response_embeddings = embed(\n",
    "    dict(input=responses,\n",
    "         context=response_contexts),\n",
    "    signature=\"response_encoder\", as_dict=True)\n",
    "\n",
    "  init_op = tf.group([tf.global_variables_initializer(), tf.tables_initializer()])\n",
    "g.finalize()\n",
    "\n",
    "# Initialize session.\n",
    "session = tf.Session(graph=g)\n",
    "session.run(init_op)\n",
    "\n"
   ]
  },
  {
   "cell_type": "code",
   "execution_count": 44,
   "metadata": {},
   "outputs": [],
   "source": [
    "# Compute embeddings.\n",
    "response_results = session.run(response_embeddings)\n"
   ]
  },
  {
   "cell_type": "code",
   "execution_count": 45,
   "metadata": {},
   "outputs": [],
   "source": [
    "question_results = session.run(question_embeddings)"
   ]
  },
  {
   "cell_type": "code",
   "execution_count": 46,
   "metadata": {},
   "outputs": [
    {
     "data": {
      "text/plain": [
       "(148, 512)"
      ]
     },
     "execution_count": 46,
     "metadata": {},
     "output_type": "execute_result"
    }
   ],
   "source": [
    "response_results['outputs'].shape"
   ]
  },
  {
   "cell_type": "code",
   "execution_count": 47,
   "metadata": {
    "scrolled": true
   },
   "outputs": [],
   "source": [
    "# responses = []\n",
    "# for index, ii in enumerate(df_queries.iterrows()):\n",
    "#     print('QN: ', ii[1]['Email Queries'])\n",
    "#     answer=condition_terms[cosine_sim_results(question_results['outputs'][index].reshape(1, -1), dummy_embed_fn, response_results['outputs']).argmax()]\n",
    "#     print('ANS: ', answer)\n",
    "#     responses.append(answer)\n",
    "#     print('\\n')\n",
    "# df_comparisons['use_qa']=responses"
   ]
  },
  {
   "cell_type": "code",
   "execution_count": 4,
   "metadata": {},
   "outputs": [],
   "source": [
    "responses=[]\n",
    "for index, ii in enumerate(df_queries.iterrows()):\n",
    "    print('QN: ', ii[1]['Email Queries'])\n",
    "    sortargs=np.flip(cosine_sim_results(question_results['outputs'][index].reshape(1, -1), dummy_embed_fn, response_results['outputs']).argsort(axis=0))\n",
    "    for ans in range(3):\n",
    "        responses.append(condition_terms[sortargs[ans,0]])\n",
    "        print('ANS: ', condition_terms[sortargs[ans,0]])\n",
    "df_comparisons['use_qa']=responses"
   ]
  },
  {
   "cell_type": "markdown",
   "metadata": {},
   "source": [
    "# Exp 3a: use the same encoder for both queries and inputs\n",
    "It looks like there is more to the model than just some contextual input. the query and responses are treated differently!"
   ]
  },
  {
   "cell_type": "code",
   "execution_count": 49,
   "metadata": {},
   "outputs": [],
   "source": [
    "# # Set up graph.\n",
    "# g = tf.Graph()\n",
    "# with g.as_default():\n",
    "#   module = hub.Module(\"https://tfhub.dev/google/universal-sentence-encoder-multilingual-qa/1\")\n",
    "#   question_embeddings = module(\n",
    "#     dict(input=questions),\n",
    "#     signature=\"question_encoder\", as_dict=True)\n",
    "\n",
    "#   response_embeddings = module(\n",
    "#     dict(input=responses),\n",
    "#     signature=\"question_encoder\", as_dict=True)\n",
    "\n",
    "#   init_op = tf.group([tf.global_variables_initializer(), tf.tables_initializer()])\n",
    "# g.finalize()\n",
    "\n",
    "# # Initialize session.\n",
    "# session = tf.Session(graph=g)\n",
    "# session.run(init_op)\n",
    "\n",
    "# # Compute embeddings.\n",
    "# response_results = session.run(response_embeddings)\n",
    "# question_results = session.run(question_embeddings)\n",
    "\n",
    "# responses = []\n",
    "# for index, ii in enumerate(df_queries.iterrows()):\n",
    "#     print('QN: ', ii[1]['Email Queries'])\n",
    "#     answer=condition_terms[cosine_sim_results(question_results['outputs'][index].reshape(1, -1), dummy_embed_fn, response_results['outputs']).argmax()]\n",
    "#     print('ANS: ', answer)\n",
    "#     responses.append(answer)\n",
    "#     print('\\n')\n",
    "# df_comparisons['use_qa_sp']=responses"
   ]
  },
  {
   "cell_type": "markdown",
   "metadata": {},
   "source": [
    "# Exp 3b: test with inner product instead of cos dist\n",
    "inner product does not normalize the magnitude of the vectors. I get the same results from the USE qna model."
   ]
  },
  {
   "cell_type": "code",
   "execution_count": 50,
   "metadata": {},
   "outputs": [],
   "source": [
    "# qna is not used like that in the examples. Instead, an inner product is taken.\n",
    "# ip = np.inner(question_results[\"outputs\"], response_results[\"outputs\"])"
   ]
  },
  {
   "cell_type": "code",
   "execution_count": 51,
   "metadata": {},
   "outputs": [],
   "source": [
    "# responses = []\n",
    "# for ii in ip.argmax(axis=1):\n",
    "#     responses.append(condition_terms[ii])\n",
    "# df_comparisons['use_qa_dot'] = responses\n"
   ]
  },
  {
   "cell_type": "markdown",
   "metadata": {},
   "source": [
    "# Exp 4: test with facebook LASER"
   ]
  },
  {
   "cell_type": "code",
   "execution_count": 5,
   "metadata": {},
   "outputs": [],
   "source": [
    "# df_comparisons.head()"
   ]
  },
  {
   "cell_type": "markdown",
   "metadata": {},
   "source": [
    "# Save to csv"
   ]
  },
  {
   "cell_type": "code",
   "execution_count": 53,
   "metadata": {},
   "outputs": [],
   "source": [
    "df_comparisons.to_csv('./predictions_3_extend_batch2.csv', index=False)"
   ]
  },
  {
   "cell_type": "code",
   "execution_count": 18,
   "metadata": {},
   "outputs": [],
   "source": [
    "df_ind = pd.read_csv('./predictions_3_extend_c.csv')"
   ]
  },
  {
   "cell_type": "code",
   "execution_count": 19,
   "metadata": {},
   "outputs": [],
   "source": [
    "df_ind['use_qa']=df_comparisons['use_qa']"
   ]
  },
  {
   "cell_type": "code",
   "execution_count": 34,
   "metadata": {},
   "outputs": [
    {
     "ename": "NameError",
     "evalue": "name 'df_ind' is not defined",
     "output_type": "error",
     "traceback": [
      "\u001b[0;31m---------------------------------------------------------------------------\u001b[0m",
      "\u001b[0;31mNameError\u001b[0m                                 Traceback (most recent call last)",
      "\u001b[0;32m<ipython-input-34-174baa2b1e90>\u001b[0m in \u001b[0;36m<module>\u001b[0;34m()\u001b[0m\n\u001b[0;32m----> 1\u001b[0;31m \u001b[0mdf_ind\u001b[0m\u001b[0;34m.\u001b[0m\u001b[0mto_csv\u001b[0m\u001b[0;34m(\u001b[0m\u001b[0;34m'./predictions_3_extend_c.csv'\u001b[0m\u001b[0;34m,\u001b[0m \u001b[0mindex\u001b[0m\u001b[0;34m=\u001b[0m\u001b[0;32mFalse\u001b[0m\u001b[0;34m)\u001b[0m\u001b[0;34m\u001b[0m\u001b[0m\n\u001b[0m",
      "\u001b[0;31mNameError\u001b[0m: name 'df_ind' is not defined"
     ]
    }
   ],
   "source": [
    "df_ind.to_csv('./predictions_3_extend_c.csv', index=False)"
   ]
  },
  {
   "cell_type": "code",
   "execution_count": 6,
   "metadata": {},
   "outputs": [],
   "source": [
    "df_ind.head()"
   ]
  },
  {
   "cell_type": "markdown",
   "metadata": {},
   "source": [
    "# Test insurance db"
   ]
  },
  {
   "cell_type": "code",
   "execution_count": 230,
   "metadata": {},
   "outputs": [],
   "source": [
    "df_query = pd.read_csv('../insuranceQA/V2/InsuranceQA.question.anslabel.raw.100.pool.solr.test.encoded', delimiter='\\t', header=None)\n",
    "df_doc = pd.read_csv('../insuranceQA/V2/InsuranceQA.label2answer.raw.encoded', delimiter='\\t', header=None)\n",
    "df_ind2word = pd.read_csv('../insuranceQA/V2/vocabulary', sep='\\t', header=None, quotechar='', quoting=3, keep_default_na=False)\n",
    "dict_ind2word = pd.Series(df_ind2word[1].values,index=df_ind2word[0].values).to_dict()\n",
    "# dict_ind2word.update(dict_ind2word_v1)"
   ]
  },
  {
   "cell_type": "code",
   "execution_count": 231,
   "metadata": {},
   "outputs": [
    {
     "data": {
      "text/html": [
       "<div>\n",
       "<style scoped>\n",
       "    .dataframe tbody tr th:only-of-type {\n",
       "        vertical-align: middle;\n",
       "    }\n",
       "\n",
       "    .dataframe tbody tr th {\n",
       "        vertical-align: top;\n",
       "    }\n",
       "\n",
       "    .dataframe thead th {\n",
       "        text-align: right;\n",
       "    }\n",
       "</style>\n",
       "<table border=\"1\" class=\"dataframe\">\n",
       "  <thead>\n",
       "    <tr style=\"text-align: right;\">\n",
       "      <th></th>\n",
       "      <th>0</th>\n",
       "      <th>1</th>\n",
       "      <th>2</th>\n",
       "      <th>3</th>\n",
       "      <th>text</th>\n",
       "    </tr>\n",
       "  </thead>\n",
       "  <tbody>\n",
       "    <tr>\n",
       "      <th>0</th>\n",
       "      <td>life-insurance</td>\n",
       "      <td>idx_1285 idx_65774 idx_862 idx_605 idx_448 idx...</td>\n",
       "      <td>16164 99 26337</td>\n",
       "      <td>15813 3286 22367 21353 4977 6406 24335 16681 2...</td>\n",
       "      <td>What Happens When Term Life Insurance Is Paid Up?</td>\n",
       "    </tr>\n",
       "    <tr>\n",
       "      <th>1</th>\n",
       "      <td>renters-insurance</td>\n",
       "      <td>idx_1285 idx_1010 idx_999 idx_136 idx_65807</td>\n",
       "      <td>22542 4380</td>\n",
       "      <td>2235 26739 24916 17855 3406 21201 70 19553 220...</td>\n",
       "      <td>What Does Renters Insurance Cover?</td>\n",
       "    </tr>\n",
       "    <tr>\n",
       "      <th>2</th>\n",
       "      <td>home-insurance</td>\n",
       "      <td>idx_1010 idx_17002 idx_382 idx_65840 idx_14927...</td>\n",
       "      <td>26439</td>\n",
       "      <td>23486 2424 14974 3344 7712 6220 5346 12474 558...</td>\n",
       "      <td>Does Owning A Pitbull Raise Homeowners Insurance?</td>\n",
       "    </tr>\n",
       "    <tr>\n",
       "      <th>3</th>\n",
       "      <td>long-term-care-insurance</td>\n",
       "      <td>idx_1285 idx_239 idx_49 idx_739 idx_31 idx_57 ...</td>\n",
       "      <td>6996</td>\n",
       "      <td>17044 11643 1904 25722 17842 12460 20363 6904 ...</td>\n",
       "      <td>What Should You Look For In Long Term Care Ins...</td>\n",
       "    </tr>\n",
       "    <tr>\n",
       "      <th>4</th>\n",
       "      <td>medicare-insurance</td>\n",
       "      <td>idx_2363 idx_467 idx_8080 idx_31 idx_9966 idx_...</td>\n",
       "      <td>9128</td>\n",
       "      <td>9128 13322 21601 21471 6442 5412 24861 23536 2...</td>\n",
       "      <td>Will Medicare Pay For Smoking Cessation?</td>\n",
       "    </tr>\n",
       "    <tr>\n",
       "      <th>5</th>\n",
       "      <td>life-insurance</td>\n",
       "      <td>idx_1285 idx_3815 idx_66759 idx_31 idx_448 idx...</td>\n",
       "      <td>14495</td>\n",
       "      <td>2922 14495 17021 19342 27115 26050 15659 9422 ...</td>\n",
       "      <td>What Is Eoi For Life Insurance?</td>\n",
       "    </tr>\n",
       "    <tr>\n",
       "      <th>6</th>\n",
       "      <td>life-insurance</td>\n",
       "      <td>idx_1285 idx_2837 idx_2363 idx_6434 idx_448 id...</td>\n",
       "      <td>7846 21998</td>\n",
       "      <td>1921 3228 21998 16946 4388 3091 5107 12931 104...</td>\n",
       "      <td>What Companies Will Issue Life Insurance To Th...</td>\n",
       "    </tr>\n",
       "    <tr>\n",
       "      <th>7</th>\n",
       "      <td>health-insurance</td>\n",
       "      <td>idx_3189 idx_3815 idx_441 idx_136 idx_1132 idx...</td>\n",
       "      <td>3183</td>\n",
       "      <td>26289 13394 4703 25717 1438 1449 25865 25950 1...</td>\n",
       "      <td>Why Is Health Insurance So Expensive In New York?</td>\n",
       "    </tr>\n",
       "    <tr>\n",
       "      <th>8</th>\n",
       "      <td>health-insurance</td>\n",
       "      <td>idx_862 idx_1233 idx_2684 idx_9744 idx_510 idx...</td>\n",
       "      <td>12919</td>\n",
       "      <td>4655 17619 24092 5011 19350 1140 16681 22024 2...</td>\n",
       "      <td>When Do We Have To Have Health Insurance?</td>\n",
       "    </tr>\n",
       "    <tr>\n",
       "      <th>9</th>\n",
       "      <td>renters-insurance</td>\n",
       "      <td>idx_1632 idx_510 idx_20062 idx_382 idx_999 idx...</td>\n",
       "      <td>19814</td>\n",
       "      <td>3705 7537 2707 14075 3620 11522 11466 5052 893...</td>\n",
       "      <td>How To Submit A Renters Insurance Claim?</td>\n",
       "    </tr>\n",
       "    <tr>\n",
       "      <th>10</th>\n",
       "      <td>life-insurance</td>\n",
       "      <td>idx_8975 idx_28526 idx_76 idx_1039 idx_448 idx...</td>\n",
       "      <td>1084 20252 13977 3963</td>\n",
       "      <td>9709 27357 23787 11796 23061 13881 1570 14774 ...</td>\n",
       "      <td>Who Offers The Best Life Insurance Plan?</td>\n",
       "    </tr>\n",
       "    <tr>\n",
       "      <th>11</th>\n",
       "      <td>auto-insurance</td>\n",
       "      <td>idx_3189 idx_3815 idx_1987 idx_4348 idx_136 id...</td>\n",
       "      <td>3985</td>\n",
       "      <td>14515 17622 8539 11236 1997 11286 7534 3985 18...</td>\n",
       "      <td>Why Is My Car Insurance Claim Being Investigated?</td>\n",
       "    </tr>\n",
       "    <tr>\n",
       "      <th>12</th>\n",
       "      <td>health-insurance</td>\n",
       "      <td>idx_1632 idx_510 idx_7496 idx_441 idx_136 idx_...</td>\n",
       "      <td>8585 1961</td>\n",
       "      <td>20229 14618 22908 16052 15523 14914 14466 1608...</td>\n",
       "      <td>How To Get Health Insurance When Pregnant?</td>\n",
       "    </tr>\n",
       "    <tr>\n",
       "      <th>13</th>\n",
       "      <td>disability-insurance</td>\n",
       "      <td>idx_3019 idx_382 idx_5086 idx_8080 idx_31 idx_...</td>\n",
       "      <td>26054</td>\n",
       "      <td>14450 6112 886 18743 4922 23323 11947 4926 530...</td>\n",
       "      <td>Can A Corporation Pay For Disability Insurance?</td>\n",
       "    </tr>\n",
       "    <tr>\n",
       "      <th>14</th>\n",
       "      <td>home-insurance</td>\n",
       "      <td>idx_2363 idx_3205 idx_136 idx_21593 idx_382 id...</td>\n",
       "      <td>12753</td>\n",
       "      <td>20201 12326 26839 8767 224 2048 25164 12354 15...</td>\n",
       "      <td>Will Homeowners Insurance Cover A Tree Falling...</td>\n",
       "    </tr>\n",
       "    <tr>\n",
       "      <th>15</th>\n",
       "      <td>health-insurance</td>\n",
       "      <td>idx_11974 idx_510 idx_2130 idx_15724 idx_31 id...</td>\n",
       "      <td>5377 12601 9291</td>\n",
       "      <td>14557 25997 27297 324 12106 25416 20118 12203 ...</td>\n",
       "      <td>Where To Start Looking For Health Insurance?</td>\n",
       "    </tr>\n",
       "    <tr>\n",
       "      <th>16</th>\n",
       "      <td>medicare-insurance</td>\n",
       "      <td>idx_1285 idx_3815 idx_342 idx_67140</td>\n",
       "      <td>20050</td>\n",
       "      <td>26987 12670 4850 14224 23080 18958 13708 7161 ...</td>\n",
       "      <td>What Is Medigap Blue?</td>\n",
       "    </tr>\n",
       "    <tr>\n",
       "      <th>17</th>\n",
       "      <td>disability-insurance</td>\n",
       "      <td>idx_3815 idx_3481 idx_8882 idx_76 idx_9812 idx...</td>\n",
       "      <td>6935</td>\n",
       "      <td>5907 15675 26211 1315 24341 18359 25336 3343 1...</td>\n",
       "      <td>Is Workers Comp The Same As Disability Insurance?</td>\n",
       "    </tr>\n",
       "    <tr>\n",
       "      <th>18</th>\n",
       "      <td>disability-insurance</td>\n",
       "      <td>idx_3815 idx_432 idx_136 idx_65792</td>\n",
       "      <td>13633</td>\n",
       "      <td>21877 14085 22490 25806 11300 13905 26503 1811...</td>\n",
       "      <td>Is Disability Insurance Necessary?</td>\n",
       "    </tr>\n",
       "    <tr>\n",
       "      <th>19</th>\n",
       "      <td>life-insurance</td>\n",
       "      <td>idx_1632 idx_6214 idx_22114 idx_448 idx_136 id...</td>\n",
       "      <td>13338 12810 3011</td>\n",
       "      <td>4395 5805 12166 16998 23405 5262 14032 8497 10...</td>\n",
       "      <td>How Much Optional Life Insurance Do I Need?</td>\n",
       "    </tr>\n",
       "    <tr>\n",
       "      <th>20</th>\n",
       "      <td>health-insurance</td>\n",
       "      <td>idx_1285 idx_3815 idx_382 idx_441 idx_136 idx_...</td>\n",
       "      <td>23154</td>\n",
       "      <td>23154 847 1023 8270 15738 17561 8321 25863 121...</td>\n",
       "      <td>What Is A Health Insurance Claim Form 1500?</td>\n",
       "    </tr>\n",
       "    <tr>\n",
       "      <th>21</th>\n",
       "      <td>renters-insurance</td>\n",
       "      <td>idx_3019 idx_49 idx_49613 idx_3466 idx_1834 id...</td>\n",
       "      <td>7149 12329</td>\n",
       "      <td>3430 3501 7630 9130 11737 4490 18049 27413 184...</td>\n",
       "      <td>Can You Borrow Money From Renters Insurance?</td>\n",
       "    </tr>\n",
       "    <tr>\n",
       "      <th>22</th>\n",
       "      <td>home-insurance</td>\n",
       "      <td>idx_11974 idx_510 idx_7496 idx_2177 idx_136 id...</td>\n",
       "      <td>21999 6714 21723</td>\n",
       "      <td>14959 17072 1697 9118 8219 4843 17728 4464 134...</td>\n",
       "      <td>Where To Get Home Insurance Quote?</td>\n",
       "    </tr>\n",
       "    <tr>\n",
       "      <th>23</th>\n",
       "      <td>life-insurance</td>\n",
       "      <td>idx_3189 idx_7494 idx_1690 idx_448 idx_8092</td>\n",
       "      <td>9613</td>\n",
       "      <td>26422 2027 6551 22651 26625 19342 21459 15502 ...</td>\n",
       "      <td>Why Buy Variable Life Insurance?</td>\n",
       "    </tr>\n",
       "    <tr>\n",
       "      <th>24</th>\n",
       "      <td>retirement-plans</td>\n",
       "      <td>idx_1632 idx_604 idx_510 idx_2111 idx_31 idx_6...</td>\n",
       "      <td>13882 24144</td>\n",
       "      <td>22943 7297 4395 12166 10794 25629 5712 2032 17...</td>\n",
       "      <td>How Long To Plan For Retirement?</td>\n",
       "    </tr>\n",
       "    <tr>\n",
       "      <th>25</th>\n",
       "      <td>auto-insurance</td>\n",
       "      <td>idx_8975 idx_3815 idx_76 idx_66519 idx_9524 id...</td>\n",
       "      <td>22750</td>\n",
       "      <td>22531 24554 16998 14549 9536 9478 23868 24256 ...</td>\n",
       "      <td>Who Is The Least Expensive Auto Insurance?</td>\n",
       "    </tr>\n",
       "    <tr>\n",
       "      <th>26</th>\n",
       "      <td>medicare-insurance</td>\n",
       "      <td>idx_1285 idx_3815 idx_12783 idx_31 idx_467 idx...</td>\n",
       "      <td>17555</td>\n",
       "      <td>10330 19537 17555 12376 3685 6215 8765 26091 2...</td>\n",
       "      <td>What Is Centers For Medicare And Medicaid?</td>\n",
       "    </tr>\n",
       "    <tr>\n",
       "      <th>27</th>\n",
       "      <td>renters-insurance</td>\n",
       "      <td>idx_1632 idx_510 idx_55333 idx_382 idx_999 idx...</td>\n",
       "      <td>16207</td>\n",
       "      <td>18742 2321 2235 3157 13045 3706 5683 14022 665...</td>\n",
       "      <td>How To File A Renters Insurance Claim?</td>\n",
       "    </tr>\n",
       "    <tr>\n",
       "      <th>28</th>\n",
       "      <td>life-insurance</td>\n",
       "      <td>idx_1285 idx_1233 idx_99 idx_6132 idx_510 idx_...</td>\n",
       "      <td>2894</td>\n",
       "      <td>16681 23171 14032 16998 2778 7164 26451 27029 ...</td>\n",
       "      <td>What Do I Need To Know About Buying Life Insur...</td>\n",
       "    </tr>\n",
       "    <tr>\n",
       "      <th>29</th>\n",
       "      <td>auto-insurance</td>\n",
       "      <td>idx_1285 idx_3815 idx_76 idx_66507 idx_4348 id...</td>\n",
       "      <td>16895</td>\n",
       "      <td>14410 27338 21738 10144 16670 23171 7535 19683...</td>\n",
       "      <td>What Is The Biggest Car Insurance Company In Us?</td>\n",
       "    </tr>\n",
       "    <tr>\n",
       "      <th>...</th>\n",
       "      <td>...</td>\n",
       "      <td>...</td>\n",
       "      <td>...</td>\n",
       "      <td>...</td>\n",
       "      <td>...</td>\n",
       "    </tr>\n",
       "    <tr>\n",
       "      <th>1970</th>\n",
       "      <td>life-insurance</td>\n",
       "      <td>idx_7 idx_99 idx_26806 idx_8975 idx_1697 idx_7...</td>\n",
       "      <td>5258 9014 6319 24343 18530</td>\n",
       "      <td>6149 6220 4138 15378 14032 786 27209 26451 170...</td>\n",
       "      <td>If I Die Who Would Get My Life Insurance?</td>\n",
       "    </tr>\n",
       "    <tr>\n",
       "      <th>1971</th>\n",
       "      <td>retirement-plans</td>\n",
       "      <td>idx_1285 idx_1010 idx_382 idx_2971 idx_2111 id...</td>\n",
       "      <td>21749</td>\n",
       "      <td>21749 10468 13009 11368 10819 9678 27017 19195...</td>\n",
       "      <td>What Does A Retirement Plan Record Keeper Do?</td>\n",
       "    </tr>\n",
       "    <tr>\n",
       "      <th>1972</th>\n",
       "      <td>life-insurance</td>\n",
       "      <td>idx_3019 idx_99 idx_7496 idx_448 idx_136 idx_7...</td>\n",
       "      <td>24103</td>\n",
       "      <td>23538 24103 4174 25470 24179 19770 12956 19331...</td>\n",
       "      <td>Can I Get Life Insurance If I Have Ulcerative ...</td>\n",
       "    </tr>\n",
       "    <tr>\n",
       "      <th>1973</th>\n",
       "      <td>auto-insurance</td>\n",
       "      <td>idx_1285 idx_1010 idx_4441 idx_4883 idx_136 id...</td>\n",
       "      <td>8430</td>\n",
       "      <td>18432 25308 26855 26802 5425 26972 22423 14354...</td>\n",
       "      <td>What Does AAA Auto Insurance Cover?</td>\n",
       "    </tr>\n",
       "    <tr>\n",
       "      <th>1974</th>\n",
       "      <td>life-insurance</td>\n",
       "      <td>idx_3019 idx_4898 idx_4788 idx_6711 idx_4151 i...</td>\n",
       "      <td>7780 3165 15181</td>\n",
       "      <td>9263 16215 12621 16275 8918 4809 4861 7254 180...</td>\n",
       "      <td>Can Someone With High Blood Pressure Get Life ...</td>\n",
       "    </tr>\n",
       "    <tr>\n",
       "      <th>1975</th>\n",
       "      <td>annuities</td>\n",
       "      <td>idx_1285 idx_1236 idx_12504 idx_2924 idx_1039 ...</td>\n",
       "      <td>24640</td>\n",
       "      <td>24640 24994 6519 26119 5087 6551 3566 26422 10...</td>\n",
       "      <td>What Are Deferred Annuities Best Suited For?</td>\n",
       "    </tr>\n",
       "    <tr>\n",
       "      <th>1976</th>\n",
       "      <td>medicare-insurance</td>\n",
       "      <td>idx_1010 idx_1069 idx_42009 idx_342 idx_8092</td>\n",
       "      <td>3857 23639</td>\n",
       "      <td>7109 5935 3857 14985 18238 1281 25807 23347 11...</td>\n",
       "      <td>Does Obamacare Offer Medigap Insurance?</td>\n",
       "    </tr>\n",
       "    <tr>\n",
       "      <th>1977</th>\n",
       "      <td>medicare-insurance</td>\n",
       "      <td>idx_1010 idx_467 idx_474 idx_4819 idx_21593 id...</td>\n",
       "      <td>3138</td>\n",
       "      <td>3138 18458 11039 27349 4704 5526 14317 10029 1...</td>\n",
       "      <td>Does Medicare Part D Cover Diabetic Supplies?</td>\n",
       "    </tr>\n",
       "    <tr>\n",
       "      <th>1978</th>\n",
       "      <td>life-insurance</td>\n",
       "      <td>idx_1285 idx_3815 idx_581 idx_19196 idx_14134 ...</td>\n",
       "      <td>3092</td>\n",
       "      <td>3092 22635 18151 20141 11864 11117 25669 14279...</td>\n",
       "      <td>What Is An Inspection Report For Life Insurance?</td>\n",
       "    </tr>\n",
       "    <tr>\n",
       "      <th>1979</th>\n",
       "      <td>health-insurance</td>\n",
       "      <td>idx_3815 idx_2043 idx_441 idx_136 idx_65926</td>\n",
       "      <td>1747</td>\n",
       "      <td>1747 18173 11796 6552 2272 11904 27304 6027 12...</td>\n",
       "      <td>Is Government Health Insurance Cheap?</td>\n",
       "    </tr>\n",
       "    <tr>\n",
       "      <th>1980</th>\n",
       "      <td>home-insurance</td>\n",
       "      <td>idx_1010 idx_2177 idx_136 idx_21593 idx_66791</td>\n",
       "      <td>23618 7196</td>\n",
       "      <td>7196 18919 21816 12579 18920 5959 21120 14719 ...</td>\n",
       "      <td>Does Home Insurance Cover Earthquakes?</td>\n",
       "    </tr>\n",
       "    <tr>\n",
       "      <th>1981</th>\n",
       "      <td>home-insurance</td>\n",
       "      <td>idx_7 idx_8 idx_130 idx_1315 idx_82 idx_3958 i...</td>\n",
       "      <td>20253</td>\n",
       "      <td>23971 7937 5656 813 18516 5277 10234 26213 202...</td>\n",
       "      <td>If you have $500,000 in jewelry (through inher...</td>\n",
       "    </tr>\n",
       "    <tr>\n",
       "      <th>1982</th>\n",
       "      <td>medicare-insurance</td>\n",
       "      <td>idx_1632 idx_1233 idx_99 idx_14530 idx_467 idx...</td>\n",
       "      <td>3574 1810</td>\n",
       "      <td>6735 16029 12731 20609 13044 19248 10784 25146...</td>\n",
       "      <td>How Do I Join Medicare Part D?</td>\n",
       "    </tr>\n",
       "    <tr>\n",
       "      <th>1983</th>\n",
       "      <td>auto-insurance</td>\n",
       "      <td>idx_1632 idx_6214 idx_1010 idx_5458 idx_1 idx_...</td>\n",
       "      <td>14448</td>\n",
       "      <td>2813 16998 6407 26702 5877 14610 1136 5805 953...</td>\n",
       "      <td>How Much Does Full Coverage Auto Insurance Cover?</td>\n",
       "    </tr>\n",
       "    <tr>\n",
       "      <th>1984</th>\n",
       "      <td>auto-insurance</td>\n",
       "      <td>idx_1285 idx_136 idx_2837 idx_3019 idx_99 idx_...</td>\n",
       "      <td>24008</td>\n",
       "      <td>17885 27281 24346 26166 20730 10519 9846 24008...</td>\n",
       "      <td>What Insurance Companies Can I Get For Under $...</td>\n",
       "    </tr>\n",
       "    <tr>\n",
       "      <th>1985</th>\n",
       "      <td>renters-insurance</td>\n",
       "      <td>idx_2363 idx_999 idx_136 idx_21593 idx_48152</td>\n",
       "      <td>2959</td>\n",
       "      <td>26739 24916 15097 14833 24117 14698 11888 8030...</td>\n",
       "      <td>Will Renters Insurance Cover Fire?</td>\n",
       "    </tr>\n",
       "    <tr>\n",
       "      <th>1986</th>\n",
       "      <td>retirement-plans</td>\n",
       "      <td>idx_3815 idx_6537 idx_2971 idx_382 idx_11592 i...</td>\n",
       "      <td>24982</td>\n",
       "      <td>15183 24982 26052 25146 22923 3618 19407 9917 ...</td>\n",
       "      <td>Is Military Retirement A Qualified Plan?</td>\n",
       "    </tr>\n",
       "    <tr>\n",
       "      <th>1987</th>\n",
       "      <td>retirement-plans</td>\n",
       "      <td>idx_1632 idx_3019 idx_99 idx_1113 idx_1174 idx...</td>\n",
       "      <td>7297 22048</td>\n",
       "      <td>6594 14032 26451 7297 23171 7164 6149 20093 23...</td>\n",
       "      <td>How Can I Make Sure That I Don't Run Out Of Mo...</td>\n",
       "    </tr>\n",
       "    <tr>\n",
       "      <th>1988</th>\n",
       "      <td>auto-insurance</td>\n",
       "      <td>idx_1285 idx_3815 idx_76 idx_42015 idx_5586 id...</td>\n",
       "      <td>4221</td>\n",
       "      <td>17293 4993 20126 20408 10438 23262 929 667 759...</td>\n",
       "      <td>What Is The Lowest Cost Auto Insurance?</td>\n",
       "    </tr>\n",
       "    <tr>\n",
       "      <th>1989</th>\n",
       "      <td>life-insurance</td>\n",
       "      <td>idx_128 idx_4093 idx_116 idx_11 idx_416 idx_29...</td>\n",
       "      <td>526 25038 27226 7501 15521 5594 23666</td>\n",
       "      <td>4138 15610 6149 21249 17197 15148 6220 24983 2...</td>\n",
       "      <td>I'm 50 with a term life policy that expires wh...</td>\n",
       "    </tr>\n",
       "    <tr>\n",
       "      <th>1990</th>\n",
       "      <td>renters-insurance</td>\n",
       "      <td>idx_1285 idx_1010 idx_382 idx_3194 idx_999 idx...</td>\n",
       "      <td>1462</td>\n",
       "      <td>3884 5955 6805 2235 10917 26739 25290 24916 26...</td>\n",
       "      <td>What Does A Basic Renters Insurance Policy Cover?</td>\n",
       "    </tr>\n",
       "    <tr>\n",
       "      <th>1991</th>\n",
       "      <td>critical-illness-insurance</td>\n",
       "      <td>idx_1285 idx_3815 idx_5691 idx_6241 idx_57 idx...</td>\n",
       "      <td>17314</td>\n",
       "      <td>27127 10741 17122 8778 8364 23871 15231 19656 ...</td>\n",
       "      <td>What Is Critical Illness In Insurance?</td>\n",
       "    </tr>\n",
       "    <tr>\n",
       "      <th>1992</th>\n",
       "      <td>retirement-plans</td>\n",
       "      <td>idx_1285 idx_3815 idx_76 idx_65811 idx_2971 id...</td>\n",
       "      <td>1936</td>\n",
       "      <td>14019 23677 15518 12299 24839 690 791 871 1587...</td>\n",
       "      <td>What Is The 403B Retirement Plan?</td>\n",
       "    </tr>\n",
       "    <tr>\n",
       "      <th>1993</th>\n",
       "      <td>disability-insurance</td>\n",
       "      <td>idx_1285 idx_3815 idx_3467 idx_7005 idx_432 id...</td>\n",
       "      <td>16934</td>\n",
       "      <td>2947 16934 21049 19923 7907 20061 21434 21353 ...</td>\n",
       "      <td>What Is Guaranteed Renewable Disability Insura...</td>\n",
       "    </tr>\n",
       "    <tr>\n",
       "      <th>1994</th>\n",
       "      <td>medicare-insurance</td>\n",
       "      <td>idx_4114 idx_342 idx_1567 idx_3815 idx_24863</td>\n",
       "      <td>990</td>\n",
       "      <td>3739 12111 20715 13070 3945 20643 23445 27216 ...</td>\n",
       "      <td>Which Medigap Policy Is Best?</td>\n",
       "    </tr>\n",
       "    <tr>\n",
       "      <th>1995</th>\n",
       "      <td>renters-insurance</td>\n",
       "      <td>idx_1285 idx_3815 idx_382 idx_16978 idx_19903 ...</td>\n",
       "      <td>4755</td>\n",
       "      <td>12103 11443 13643 12652 19608 6659 6553 26376 ...</td>\n",
       "      <td>What Is A Declaration Page For Renters Insurance?</td>\n",
       "    </tr>\n",
       "    <tr>\n",
       "      <th>1996</th>\n",
       "      <td>life-insurance</td>\n",
       "      <td>idx_1285 idx_1233 idx_181 idx_26705 idx_31 idx...</td>\n",
       "      <td>9430</td>\n",
       "      <td>1347 23806 19904 8462 9117 9964 18596 11898 13...</td>\n",
       "      <td>What Do They Test For In Urine For Life Insura...</td>\n",
       "    </tr>\n",
       "    <tr>\n",
       "      <th>1997</th>\n",
       "      <td>annuities</td>\n",
       "      <td>idx_4114 idx_2971 idx_449 idx_3815 idx_76 idx_...</td>\n",
       "      <td>25033</td>\n",
       "      <td>10290 25532 26422 14604 3227 8356 12971 25446 ...</td>\n",
       "      <td>Which Retirement Annuity Is The Best?</td>\n",
       "    </tr>\n",
       "    <tr>\n",
       "      <th>1998</th>\n",
       "      <td>life-insurance</td>\n",
       "      <td>idx_3019 idx_382 idx_3394 idx_7004 idx_32956 i...</td>\n",
       "      <td>11206 23994 14381</td>\n",
       "      <td>17471 4993 14381 23994 14002 25114 24024 11206...</td>\n",
       "      <td>Can A 65 Year Old Get Term Life Insurance?</td>\n",
       "    </tr>\n",
       "    <tr>\n",
       "      <th>1999</th>\n",
       "      <td>auto-insurance</td>\n",
       "      <td>idx_1632 idx_3019 idx_99 idx_7496 idx_4883 idx...</td>\n",
       "      <td>19639 23206 5857 18875 26464</td>\n",
       "      <td>13849 5563 19154 24940 21291 22420 21327 23920...</td>\n",
       "      <td>How Can I Get Auto Insurance With A Suspended ...</td>\n",
       "    </tr>\n",
       "  </tbody>\n",
       "</table>\n",
       "<p>2000 rows × 5 columns</p>\n",
       "</div>"
      ],
      "text/plain": [
       "                               0  \\\n",
       "0                 life-insurance   \n",
       "1              renters-insurance   \n",
       "2                 home-insurance   \n",
       "3       long-term-care-insurance   \n",
       "4             medicare-insurance   \n",
       "5                 life-insurance   \n",
       "6                 life-insurance   \n",
       "7               health-insurance   \n",
       "8               health-insurance   \n",
       "9              renters-insurance   \n",
       "10                life-insurance   \n",
       "11                auto-insurance   \n",
       "12              health-insurance   \n",
       "13          disability-insurance   \n",
       "14                home-insurance   \n",
       "15              health-insurance   \n",
       "16            medicare-insurance   \n",
       "17          disability-insurance   \n",
       "18          disability-insurance   \n",
       "19                life-insurance   \n",
       "20              health-insurance   \n",
       "21             renters-insurance   \n",
       "22                home-insurance   \n",
       "23                life-insurance   \n",
       "24              retirement-plans   \n",
       "25                auto-insurance   \n",
       "26            medicare-insurance   \n",
       "27             renters-insurance   \n",
       "28                life-insurance   \n",
       "29                auto-insurance   \n",
       "...                          ...   \n",
       "1970              life-insurance   \n",
       "1971            retirement-plans   \n",
       "1972              life-insurance   \n",
       "1973              auto-insurance   \n",
       "1974              life-insurance   \n",
       "1975                   annuities   \n",
       "1976          medicare-insurance   \n",
       "1977          medicare-insurance   \n",
       "1978              life-insurance   \n",
       "1979            health-insurance   \n",
       "1980              home-insurance   \n",
       "1981              home-insurance   \n",
       "1982          medicare-insurance   \n",
       "1983              auto-insurance   \n",
       "1984              auto-insurance   \n",
       "1985           renters-insurance   \n",
       "1986            retirement-plans   \n",
       "1987            retirement-plans   \n",
       "1988              auto-insurance   \n",
       "1989              life-insurance   \n",
       "1990           renters-insurance   \n",
       "1991  critical-illness-insurance   \n",
       "1992            retirement-plans   \n",
       "1993        disability-insurance   \n",
       "1994          medicare-insurance   \n",
       "1995           renters-insurance   \n",
       "1996              life-insurance   \n",
       "1997                   annuities   \n",
       "1998              life-insurance   \n",
       "1999              auto-insurance   \n",
       "\n",
       "                                                      1  \\\n",
       "0     idx_1285 idx_65774 idx_862 idx_605 idx_448 idx...   \n",
       "1           idx_1285 idx_1010 idx_999 idx_136 idx_65807   \n",
       "2     idx_1010 idx_17002 idx_382 idx_65840 idx_14927...   \n",
       "3     idx_1285 idx_239 idx_49 idx_739 idx_31 idx_57 ...   \n",
       "4     idx_2363 idx_467 idx_8080 idx_31 idx_9966 idx_...   \n",
       "5     idx_1285 idx_3815 idx_66759 idx_31 idx_448 idx...   \n",
       "6     idx_1285 idx_2837 idx_2363 idx_6434 idx_448 id...   \n",
       "7     idx_3189 idx_3815 idx_441 idx_136 idx_1132 idx...   \n",
       "8     idx_862 idx_1233 idx_2684 idx_9744 idx_510 idx...   \n",
       "9     idx_1632 idx_510 idx_20062 idx_382 idx_999 idx...   \n",
       "10    idx_8975 idx_28526 idx_76 idx_1039 idx_448 idx...   \n",
       "11    idx_3189 idx_3815 idx_1987 idx_4348 idx_136 id...   \n",
       "12    idx_1632 idx_510 idx_7496 idx_441 idx_136 idx_...   \n",
       "13    idx_3019 idx_382 idx_5086 idx_8080 idx_31 idx_...   \n",
       "14    idx_2363 idx_3205 idx_136 idx_21593 idx_382 id...   \n",
       "15    idx_11974 idx_510 idx_2130 idx_15724 idx_31 id...   \n",
       "16                  idx_1285 idx_3815 idx_342 idx_67140   \n",
       "17    idx_3815 idx_3481 idx_8882 idx_76 idx_9812 idx...   \n",
       "18                   idx_3815 idx_432 idx_136 idx_65792   \n",
       "19    idx_1632 idx_6214 idx_22114 idx_448 idx_136 id...   \n",
       "20    idx_1285 idx_3815 idx_382 idx_441 idx_136 idx_...   \n",
       "21    idx_3019 idx_49 idx_49613 idx_3466 idx_1834 id...   \n",
       "22    idx_11974 idx_510 idx_7496 idx_2177 idx_136 id...   \n",
       "23          idx_3189 idx_7494 idx_1690 idx_448 idx_8092   \n",
       "24    idx_1632 idx_604 idx_510 idx_2111 idx_31 idx_6...   \n",
       "25    idx_8975 idx_3815 idx_76 idx_66519 idx_9524 id...   \n",
       "26    idx_1285 idx_3815 idx_12783 idx_31 idx_467 idx...   \n",
       "27    idx_1632 idx_510 idx_55333 idx_382 idx_999 idx...   \n",
       "28    idx_1285 idx_1233 idx_99 idx_6132 idx_510 idx_...   \n",
       "29    idx_1285 idx_3815 idx_76 idx_66507 idx_4348 id...   \n",
       "...                                                 ...   \n",
       "1970  idx_7 idx_99 idx_26806 idx_8975 idx_1697 idx_7...   \n",
       "1971  idx_1285 idx_1010 idx_382 idx_2971 idx_2111 id...   \n",
       "1972  idx_3019 idx_99 idx_7496 idx_448 idx_136 idx_7...   \n",
       "1973  idx_1285 idx_1010 idx_4441 idx_4883 idx_136 id...   \n",
       "1974  idx_3019 idx_4898 idx_4788 idx_6711 idx_4151 i...   \n",
       "1975  idx_1285 idx_1236 idx_12504 idx_2924 idx_1039 ...   \n",
       "1976       idx_1010 idx_1069 idx_42009 idx_342 idx_8092   \n",
       "1977  idx_1010 idx_467 idx_474 idx_4819 idx_21593 id...   \n",
       "1978  idx_1285 idx_3815 idx_581 idx_19196 idx_14134 ...   \n",
       "1979        idx_3815 idx_2043 idx_441 idx_136 idx_65926   \n",
       "1980      idx_1010 idx_2177 idx_136 idx_21593 idx_66791   \n",
       "1981  idx_7 idx_8 idx_130 idx_1315 idx_82 idx_3958 i...   \n",
       "1982  idx_1632 idx_1233 idx_99 idx_14530 idx_467 idx...   \n",
       "1983  idx_1632 idx_6214 idx_1010 idx_5458 idx_1 idx_...   \n",
       "1984  idx_1285 idx_136 idx_2837 idx_3019 idx_99 idx_...   \n",
       "1985       idx_2363 idx_999 idx_136 idx_21593 idx_48152   \n",
       "1986  idx_3815 idx_6537 idx_2971 idx_382 idx_11592 i...   \n",
       "1987  idx_1632 idx_3019 idx_99 idx_1113 idx_1174 idx...   \n",
       "1988  idx_1285 idx_3815 idx_76 idx_42015 idx_5586 id...   \n",
       "1989  idx_128 idx_4093 idx_116 idx_11 idx_416 idx_29...   \n",
       "1990  idx_1285 idx_1010 idx_382 idx_3194 idx_999 idx...   \n",
       "1991  idx_1285 idx_3815 idx_5691 idx_6241 idx_57 idx...   \n",
       "1992  idx_1285 idx_3815 idx_76 idx_65811 idx_2971 id...   \n",
       "1993  idx_1285 idx_3815 idx_3467 idx_7005 idx_432 id...   \n",
       "1994       idx_4114 idx_342 idx_1567 idx_3815 idx_24863   \n",
       "1995  idx_1285 idx_3815 idx_382 idx_16978 idx_19903 ...   \n",
       "1996  idx_1285 idx_1233 idx_181 idx_26705 idx_31 idx...   \n",
       "1997  idx_4114 idx_2971 idx_449 idx_3815 idx_76 idx_...   \n",
       "1998  idx_3019 idx_382 idx_3394 idx_7004 idx_32956 i...   \n",
       "1999  idx_1632 idx_3019 idx_99 idx_7496 idx_4883 idx...   \n",
       "\n",
       "                                          2  \\\n",
       "0                            16164 99 26337   \n",
       "1                                22542 4380   \n",
       "2                                     26439   \n",
       "3                                      6996   \n",
       "4                                      9128   \n",
       "5                                     14495   \n",
       "6                                7846 21998   \n",
       "7                                      3183   \n",
       "8                                     12919   \n",
       "9                                     19814   \n",
       "10                    1084 20252 13977 3963   \n",
       "11                                     3985   \n",
       "12                                8585 1961   \n",
       "13                                    26054   \n",
       "14                                    12753   \n",
       "15                          5377 12601 9291   \n",
       "16                                    20050   \n",
       "17                                     6935   \n",
       "18                                    13633   \n",
       "19                         13338 12810 3011   \n",
       "20                                    23154   \n",
       "21                               7149 12329   \n",
       "22                         21999 6714 21723   \n",
       "23                                     9613   \n",
       "24                              13882 24144   \n",
       "25                                    22750   \n",
       "26                                    17555   \n",
       "27                                    16207   \n",
       "28                                     2894   \n",
       "29                                    16895   \n",
       "...                                     ...   \n",
       "1970             5258 9014 6319 24343 18530   \n",
       "1971                                  21749   \n",
       "1972                                  24103   \n",
       "1973                                   8430   \n",
       "1974                        7780 3165 15181   \n",
       "1975                                  24640   \n",
       "1976                             3857 23639   \n",
       "1977                                   3138   \n",
       "1978                                   3092   \n",
       "1979                                   1747   \n",
       "1980                             23618 7196   \n",
       "1981                                  20253   \n",
       "1982                              3574 1810   \n",
       "1983                                  14448   \n",
       "1984                                  24008   \n",
       "1985                                   2959   \n",
       "1986                                  24982   \n",
       "1987                             7297 22048   \n",
       "1988                                   4221   \n",
       "1989  526 25038 27226 7501 15521 5594 23666   \n",
       "1990                                   1462   \n",
       "1991                                  17314   \n",
       "1992                                   1936   \n",
       "1993                                  16934   \n",
       "1994                                    990   \n",
       "1995                                   4755   \n",
       "1996                                   9430   \n",
       "1997                                  25033   \n",
       "1998                      11206 23994 14381   \n",
       "1999           19639 23206 5857 18875 26464   \n",
       "\n",
       "                                                      3  \\\n",
       "0     15813 3286 22367 21353 4977 6406 24335 16681 2...   \n",
       "1     2235 26739 24916 17855 3406 21201 70 19553 220...   \n",
       "2     23486 2424 14974 3344 7712 6220 5346 12474 558...   \n",
       "3     17044 11643 1904 25722 17842 12460 20363 6904 ...   \n",
       "4     9128 13322 21601 21471 6442 5412 24861 23536 2...   \n",
       "5     2922 14495 17021 19342 27115 26050 15659 9422 ...   \n",
       "6     1921 3228 21998 16946 4388 3091 5107 12931 104...   \n",
       "7     26289 13394 4703 25717 1438 1449 25865 25950 1...   \n",
       "8     4655 17619 24092 5011 19350 1140 16681 22024 2...   \n",
       "9     3705 7537 2707 14075 3620 11522 11466 5052 893...   \n",
       "10    9709 27357 23787 11796 23061 13881 1570 14774 ...   \n",
       "11    14515 17622 8539 11236 1997 11286 7534 3985 18...   \n",
       "12    20229 14618 22908 16052 15523 14914 14466 1608...   \n",
       "13    14450 6112 886 18743 4922 23323 11947 4926 530...   \n",
       "14    20201 12326 26839 8767 224 2048 25164 12354 15...   \n",
       "15    14557 25997 27297 324 12106 25416 20118 12203 ...   \n",
       "16    26987 12670 4850 14224 23080 18958 13708 7161 ...   \n",
       "17    5907 15675 26211 1315 24341 18359 25336 3343 1...   \n",
       "18    21877 14085 22490 25806 11300 13905 26503 1811...   \n",
       "19    4395 5805 12166 16998 23405 5262 14032 8497 10...   \n",
       "20    23154 847 1023 8270 15738 17561 8321 25863 121...   \n",
       "21    3430 3501 7630 9130 11737 4490 18049 27413 184...   \n",
       "22    14959 17072 1697 9118 8219 4843 17728 4464 134...   \n",
       "23    26422 2027 6551 22651 26625 19342 21459 15502 ...   \n",
       "24    22943 7297 4395 12166 10794 25629 5712 2032 17...   \n",
       "25    22531 24554 16998 14549 9536 9478 23868 24256 ...   \n",
       "26    10330 19537 17555 12376 3685 6215 8765 26091 2...   \n",
       "27    18742 2321 2235 3157 13045 3706 5683 14022 665...   \n",
       "28    16681 23171 14032 16998 2778 7164 26451 27029 ...   \n",
       "29    14410 27338 21738 10144 16670 23171 7535 19683...   \n",
       "...                                                 ...   \n",
       "1970  6149 6220 4138 15378 14032 786 27209 26451 170...   \n",
       "1971  21749 10468 13009 11368 10819 9678 27017 19195...   \n",
       "1972  23538 24103 4174 25470 24179 19770 12956 19331...   \n",
       "1973  18432 25308 26855 26802 5425 26972 22423 14354...   \n",
       "1974  9263 16215 12621 16275 8918 4809 4861 7254 180...   \n",
       "1975  24640 24994 6519 26119 5087 6551 3566 26422 10...   \n",
       "1976  7109 5935 3857 14985 18238 1281 25807 23347 11...   \n",
       "1977  3138 18458 11039 27349 4704 5526 14317 10029 1...   \n",
       "1978  3092 22635 18151 20141 11864 11117 25669 14279...   \n",
       "1979  1747 18173 11796 6552 2272 11904 27304 6027 12...   \n",
       "1980  7196 18919 21816 12579 18920 5959 21120 14719 ...   \n",
       "1981  23971 7937 5656 813 18516 5277 10234 26213 202...   \n",
       "1982  6735 16029 12731 20609 13044 19248 10784 25146...   \n",
       "1983  2813 16998 6407 26702 5877 14610 1136 5805 953...   \n",
       "1984  17885 27281 24346 26166 20730 10519 9846 24008...   \n",
       "1985  26739 24916 15097 14833 24117 14698 11888 8030...   \n",
       "1986  15183 24982 26052 25146 22923 3618 19407 9917 ...   \n",
       "1987  6594 14032 26451 7297 23171 7164 6149 20093 23...   \n",
       "1988  17293 4993 20126 20408 10438 23262 929 667 759...   \n",
       "1989  4138 15610 6149 21249 17197 15148 6220 24983 2...   \n",
       "1990  3884 5955 6805 2235 10917 26739 25290 24916 26...   \n",
       "1991  27127 10741 17122 8778 8364 23871 15231 19656 ...   \n",
       "1992  14019 23677 15518 12299 24839 690 791 871 1587...   \n",
       "1993  2947 16934 21049 19923 7907 20061 21434 21353 ...   \n",
       "1994  3739 12111 20715 13070 3945 20643 23445 27216 ...   \n",
       "1995  12103 11443 13643 12652 19608 6659 6553 26376 ...   \n",
       "1996  1347 23806 19904 8462 9117 9964 18596 11898 13...   \n",
       "1997  10290 25532 26422 14604 3227 8356 12971 25446 ...   \n",
       "1998  17471 4993 14381 23994 14002 25114 24024 11206...   \n",
       "1999  13849 5563 19154 24940 21291 22420 21327 23920...   \n",
       "\n",
       "                                                   text  \n",
       "0     What Happens When Term Life Insurance Is Paid Up?  \n",
       "1                    What Does Renters Insurance Cover?  \n",
       "2     Does Owning A Pitbull Raise Homeowners Insurance?  \n",
       "3     What Should You Look For In Long Term Care Ins...  \n",
       "4              Will Medicare Pay For Smoking Cessation?  \n",
       "5                       What Is Eoi For Life Insurance?  \n",
       "6     What Companies Will Issue Life Insurance To Th...  \n",
       "7     Why Is Health Insurance So Expensive In New York?  \n",
       "8             When Do We Have To Have Health Insurance?  \n",
       "9              How To Submit A Renters Insurance Claim?  \n",
       "10             Who Offers The Best Life Insurance Plan?  \n",
       "11    Why Is My Car Insurance Claim Being Investigated?  \n",
       "12           How To Get Health Insurance When Pregnant?  \n",
       "13      Can A Corporation Pay For Disability Insurance?  \n",
       "14    Will Homeowners Insurance Cover A Tree Falling...  \n",
       "15         Where To Start Looking For Health Insurance?  \n",
       "16                                What Is Medigap Blue?  \n",
       "17    Is Workers Comp The Same As Disability Insurance?  \n",
       "18                   Is Disability Insurance Necessary?  \n",
       "19          How Much Optional Life Insurance Do I Need?  \n",
       "20          What Is A Health Insurance Claim Form 1500?  \n",
       "21         Can You Borrow Money From Renters Insurance?  \n",
       "22                   Where To Get Home Insurance Quote?  \n",
       "23                     Why Buy Variable Life Insurance?  \n",
       "24                     How Long To Plan For Retirement?  \n",
       "25           Who Is The Least Expensive Auto Insurance?  \n",
       "26           What Is Centers For Medicare And Medicaid?  \n",
       "27               How To File A Renters Insurance Claim?  \n",
       "28    What Do I Need To Know About Buying Life Insur...  \n",
       "29     What Is The Biggest Car Insurance Company In Us?  \n",
       "...                                                 ...  \n",
       "1970          If I Die Who Would Get My Life Insurance?  \n",
       "1971      What Does A Retirement Plan Record Keeper Do?  \n",
       "1972  Can I Get Life Insurance If I Have Ulcerative ...  \n",
       "1973                What Does AAA Auto Insurance Cover?  \n",
       "1974  Can Someone With High Blood Pressure Get Life ...  \n",
       "1975       What Are Deferred Annuities Best Suited For?  \n",
       "1976            Does Obamacare Offer Medigap Insurance?  \n",
       "1977      Does Medicare Part D Cover Diabetic Supplies?  \n",
       "1978   What Is An Inspection Report For Life Insurance?  \n",
       "1979              Is Government Health Insurance Cheap?  \n",
       "1980             Does Home Insurance Cover Earthquakes?  \n",
       "1981  If you have $500,000 in jewelry (through inher...  \n",
       "1982                     How Do I Join Medicare Part D?  \n",
       "1983  How Much Does Full Coverage Auto Insurance Cover?  \n",
       "1984  What Insurance Companies Can I Get For Under $...  \n",
       "1985                 Will Renters Insurance Cover Fire?  \n",
       "1986           Is Military Retirement A Qualified Plan?  \n",
       "1987  How Can I Make Sure That I Don't Run Out Of Mo...  \n",
       "1988            What Is The Lowest Cost Auto Insurance?  \n",
       "1989  I'm 50 with a term life policy that expires wh...  \n",
       "1990  What Does A Basic Renters Insurance Policy Cover?  \n",
       "1991             What Is Critical Illness In Insurance?  \n",
       "1992                  What Is The 403B Retirement Plan?  \n",
       "1993  What Is Guaranteed Renewable Disability Insura...  \n",
       "1994                      Which Medigap Policy Is Best?  \n",
       "1995  What Is A Declaration Page For Renters Insurance?  \n",
       "1996  What Do They Test For In Urine For Life Insura...  \n",
       "1997              Which Retirement Annuity Is The Best?  \n",
       "1998         Can A 65 Year Old Get Term Life Insurance?  \n",
       "1999  How Can I Get Auto Insurance With A Suspended ...  \n",
       "\n",
       "[2000 rows x 5 columns]"
      ]
     },
     "execution_count": 231,
     "metadata": {},
     "output_type": "execute_result"
    }
   ],
   "source": [
    "def wordifier(tokes):\n",
    "    return ' '.join([dict_ind2word[ind] for ind in tokes.strip().split(' ')])\n",
    "df_doc['text']=df_doc.apply(lambda x: wordifier(x[1]), axis=1)\n",
    "df_query['text']=df_query.apply(lambda x: wordifier(x[1]), axis=1)\n",
    "df_query"
   ]
  },
  {
   "cell_type": "code",
   "execution_count": 232,
   "metadata": {},
   "outputs": [
    {
     "data": {
      "text/plain": [
       "array([\"Term life insurance is never paid up. Assuming you make your premium payments, if you are still alive at the end of the term life insurance policy's stated time period (e.g. - 10 years) the policy ends and the life insurance protection ceases. In this case the insurance company has won the bet, you didn't die during the period the policy was taken out for and they get to keep all the premium paid for taking on your risk during that time period. The only exception to this general rule is in the case where a Return of Premium rider was purchased with the term life policy. In this situation if you are still alive when the term life policy reaches the end of its stated period of coverage the policyholder is refunded the premium they have paid to the insurance company over the life of the policy. You do pay additional premium costs for this Return of Premium provision.\"],\n",
       "      dtype=object)"
      ]
     },
     "execution_count": 232,
     "metadata": {},
     "output_type": "execute_result"
    }
   ],
   "source": [
    "df_doc[df_doc[0]==99]['text'].values\n"
   ]
  },
  {
   "cell_type": "code",
   "execution_count": 179,
   "metadata": {},
   "outputs": [
    {
     "data": {
      "text/plain": [
       "'Can I Drive A New Car Home Without Insurance?'"
      ]
     },
     "execution_count": 179,
     "metadata": {},
     "output_type": "execute_result"
    }
   ],
   "source": [
    "' '.join([dict_ind2word[ind] for ind in df_ins[1][3].split(' ')])"
   ]
  },
  {
   "cell_type": "code",
   "execution_count": 143,
   "metadata": {},
   "outputs": [
    {
     "name": "stdout",
     "output_type": "stream",
     "text": [
      "['idx_17904', 'rating/result\\n']\n"
     ]
    }
   ],
   "source": [
    "with open('../insuranceQA/V2/vocabulary') as f:\n",
    "    print(f.readline().split('\\t'))"
   ]
  }
 ],
 "metadata": {
  "kernelspec": {
   "display_name": "Python 3.5",
   "language": "python",
   "name": "python3"
  },
  "language_info": {
   "codemirror_mode": {
    "name": "ipython",
    "version": 3
   },
   "file_extension": ".py",
   "mimetype": "text/x-python",
   "name": "python",
   "nbconvert_exporter": "python",
   "pygments_lexer": "ipython3",
   "version": "3.5.5"
  }
 },
 "nbformat": 4,
 "nbformat_minor": 2
}
