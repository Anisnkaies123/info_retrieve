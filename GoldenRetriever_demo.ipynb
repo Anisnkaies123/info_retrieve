{
 "cells": [
  {
   "cell_type": "code",
   "execution_count": 8,
   "metadata": {},
   "outputs": [
    {
     "name": "stdout",
     "output_type": "stream",
     "text": [
      "INFO:tensorflow:Saver not created because there are no variables in the graph to restore\n"
     ]
    },
    {
     "name": "stderr",
     "output_type": "stream",
     "text": [
      "I1003 08:57:35.054657 140587008800512 saver.py:1483] Saver not created because there are no variables in the graph to restore\n"
     ]
    },
    {
     "name": "stdout",
     "output_type": "stream",
     "text": [
      "INFO:tensorflow:Saver not created because there are no variables in the graph to restore\n"
     ]
    },
    {
     "name": "stderr",
     "output_type": "stream",
     "text": [
      "I1003 08:57:43.736958 140587008800512 saver.py:1483] Saver not created because there are no variables in the graph to restore\n"
     ]
    },
    {
     "name": "stdout",
     "output_type": "stream",
     "text": [
      "INFO:tensorflow:Saver not created because there are no variables in the graph to restore\n"
     ]
    },
    {
     "name": "stderr",
     "output_type": "stream",
     "text": [
      "I1003 08:57:50.133113 140587008800512 saver.py:1483] Saver not created because there are no variables in the graph to restore\n"
     ]
    },
    {
     "name": "stdout",
     "output_type": "stream",
     "text": [
      "model initiated!\n"
     ]
    }
   ],
   "source": [
    "from src.model import GoldenRetriever\n",
    "gr = GoldenRetriever()"
   ]
  },
  {
   "cell_type": "code",
   "execution_count": 11,
   "metadata": {},
   "outputs": [
    {
     "name": "stdout",
     "output_type": "stream",
     "text": [
      "INFO:tensorflow:Restoring parameters from /data/home/lik/info_retrieve/google_use_qa_insuranceqa/variables-0\n"
     ]
    },
    {
     "name": "stderr",
     "output_type": "stream",
     "text": [
      "I1003 08:58:41.782848 140587008800512 saver.py:1270] Restoring parameters from /data/home/lik/info_retrieve/google_use_qa_insuranceqa/variables-0\n"
     ]
    }
   ],
   "source": [
    "# text_list = ['I love my chew toy!', 'I hate Mondays.']\n",
    "gr.restore('/data/home/lik/info_retrieve/google_use_qa_tuned/variables-0')\n",
    "# gr.restore('/data/home/lik/info_retrieve/google_use_qa_insuranceqa/variables-0')\n",
    "gr.load_kb(path_to_kb='./data/aiap.txt', is_faq=True)\n"
   ]
  },
  {
   "cell_type": "code",
   "execution_count": 3,
   "metadata": {},
   "outputs": [],
   "source": [
    "%load_ext autoreload\n",
    "%autoreload 2"
   ]
  },
  {
   "cell_type": "code",
   "execution_count": 4,
   "metadata": {},
   "outputs": [],
   "source": [
    "import ipywidgets as widgets\n",
    "from ipywidgets import HBox, VBox"
   ]
  },
  {
   "cell_type": "code",
   "execution_count": 6,
   "metadata": {},
   "outputs": [],
   "source": [
    "w = widgets.Textarea(\n",
    "    value='',\n",
    "    placeholder='Ask me almost anything',\n",
    "    description='Question:',\n",
    "    disabled=False\n",
    ")\n",
    "button = widgets.Button(\n",
    "    description='Submeat',\n",
    ")\n",
    "out = widgets.Output(layout={'border': '1px solid black'})\n",
    "def display_ans(b=None):\n",
    "    query = w.value\n",
    "    ans,_ = gr.make_query(query, top_k=1)\n",
    "    with out:\n",
    "        for ii, a in enumerate(ans):\n",
    "            print(ii, a, _)\n"
   ]
  },
  {
   "cell_type": "code",
   "execution_count": 7,
   "metadata": {},
   "outputs": [
    {
     "data": {
      "application/vnd.jupyter.widget-view+json": {
       "model_id": "9f871fa34bd0473a9241da301cbad976",
       "version_major": 2,
       "version_minor": 0
      },
      "text/plain": [
       "VBox(children=(Tab(children=(VBox(children=(Textarea(value='', description='Question:', placeholder='Ask me al…"
      ]
     },
     "metadata": {},
     "output_type": "display_data"
    }
   ],
   "source": [
    "@button.on_click\n",
    "def plot_on_click(b):\n",
    "    out.clear_output()\n",
    "    display_ans()\n",
    "    \n",
    "tab1 = VBox(children=[w])\n",
    "tab = widgets.Tab(children=[tab1]) #, tab2])\n",
    "tab.set_title(0, 'FAQ dude')\n",
    "# tab.set_title(1, 'styling')\n",
    "VBox(children=[tab, button, out])"
   ]
  },
  {
   "cell_type": "code",
   "execution_count": 7,
   "metadata": {
    "scrolled": true
   },
   "outputs": [
    {
     "data": {
      "text/plain": [
       "['Q1. WHAT SORT OF CANDIDATES ARE YOU LOOKING FOR?',\n",
       " 'Q2. WHAT WILL BE COVERED IN THE PROGRAMME?',\n",
       " 'Q3. DO I HAVE TO PAY?',\n",
       " 'Q4. WHAT IS THE OUTCOME OF THIS PROGRAMME?',\n",
       " 'Q5. WILL I GET A JOB AFTER THE PROGRAMME?',\n",
       " 'Q6. WILL THERE BE A NEXT ROUND OF APPLICATION?',\n",
       " 'Q7. DO I HAVE TO GIVE UP MY CURRENT JOB TO JOIN THE  PROGRAMME?',\n",
       " 'Q8. WHAT IF I DECIDED TO DROP OUT OF THE PROGRAMME?',\n",
       " 'Q9. WILL I GET SOME SORT OF CERTIFICATE TO SHOW THAT I PARTICIPATED IN THE AIAP?',\n",
       " 'Q10. WHAT ARE THE AI JOBS AND ROLES I CAN CONSIDER AFTER COMPLETING THE TRAINING PROGRAMME?']"
      ]
     },
     "execution_count": 7,
     "metadata": {},
     "output_type": "execute_result"
    }
   ],
   "source": [
    "gr.questions"
   ]
  },
  {
   "cell_type": "code",
   "execution_count": 8,
   "metadata": {},
   "outputs": [
    {
     "data": {
      "text/plain": [
       "['We are looking for candidates who possess a keen interest in the area of machine learning and data science. We believe that candidates can come from any area of specialisation, and our requirements are as follow: i)   Singaporean with a polytechnic diploma or university degree, ii) Proficient in Python or R and iii) Is able to implement Machine Learning Algorithms or have a background in Mathematics / Statistics / Computer Science.  Beyond that, demonstrated statistical fundamentals and programming ability will be helpful for the technical tests, but a keen learning attitude will be the most important to carry you through the programme.  ',\n",
       " 'We will begin with some structured coursework involving programming, modelling and deployment. Following which, apprentices will be assigned to 100E projects to hone their skills in-depth, specific to each project. Generally, you will be doing the following: Deploy Machine Learning applications in line with industry best practices Select, train and tune Machine Learning algorithms Design and build Data Pipelines and Infrastructures for AI Use Cases ',\n",
       " 'No payment is required. All apprentices will receive full sponsorship from AI Singapore and Infocomm and Media Development Authority.  The apprentices will also receive a stipend of between SGD$3,500 to $5,500/month depending on your working experience. ',\n",
       " 'Candidates can expect to be equipped in some or all of the following skills: data modelling/tuning, data engineering, data product-related software engineering, cloud applications. It ranges between individuals, but candidates can be adequately prepared in fields of data science, engineering and consultancy ',\n",
       " 'While AI Singapore encourage our industry partners to place job postings for our apprentices, it is ultimately your responsibility to find a job most suitable for yourself. ',\n",
       " 'Yes, we run 3 iterations of the programme every year, about 4 months apart. You may apply again if you are unsuccessful or unavailable for the current batch. ',\n",
       " 'YES. This is a FULL TIME programme where you will undergo training at an intensive pace over 9 months.  Due to our sponsorship requirements, you are not allowed to take no-pay leave to attend the programme. ',\n",
       " 'If you drop out of the course, you will have to reimburse AISG the training stipends paid out to you and the fees for the programme. ',\n",
       " 'Apprentices who have successfully completed the AIAP will receive a certificate from AISG. ',\n",
       " 'They may include AI Engineer, ML Engineer, AI Dev Ops, AI Developer or AI Consultant. ']"
      ]
     },
     "execution_count": 8,
     "metadata": {},
     "output_type": "execute_result"
    }
   ],
   "source": [
    "gr.text"
   ]
  },
  {
   "cell_type": "code",
   "execution_count": 12,
   "metadata": {},
   "outputs": [
    {
     "name": "stdout",
     "output_type": "stream",
     "text": [
      "0 0.4\n",
      "1 0.6\n",
      "2 0.7\n",
      "3 0.9\n",
      "4 0.9\n"
     ]
    }
   ],
   "source": [
    "from src.utils import aiap_qna_quickscore\n",
    "for k in range(5):\n",
    "    print(k, aiap_qna_quickscore([' '.join(x.split(' ')[1:]) for x in gr.questions], gr.predict(gr.text), gr.text, gr, k+1))"
   ]
  }
 ],
 "metadata": {
  "kernelspec": {
   "display_name": "Python 3.5",
   "language": "python",
   "name": "python3"
  },
  "language_info": {
   "codemirror_mode": {
    "name": "ipython",
    "version": 3
   },
   "file_extension": ".py",
   "mimetype": "text/x-python",
   "name": "python",
   "nbconvert_exporter": "python",
   "pygments_lexer": "ipython3",
   "version": "3.5.5"
  }
 },
 "nbformat": 4,
 "nbformat_minor": 2
}
